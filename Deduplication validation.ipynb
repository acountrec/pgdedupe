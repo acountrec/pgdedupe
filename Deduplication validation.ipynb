{
 "cells": [
  {
   "cell_type": "markdown",
   "metadata": {},
   "source": [
    "# Deduplication"
   ]
  },
  {
   "cell_type": "code",
   "execution_count": 1,
   "metadata": {
    "collapsed": false
   },
   "outputs": [
    {
     "name": "stderr",
     "output_type": "stream",
     "text": [
      "/Users/mbauman/anaconda/lib/python2.7/site-packages/matplotlib/font_manager.py:273: UserWarning: Matplotlib is building the font cache using fc-list. This may take a moment.\n",
      "  warnings.warn('Matplotlib is building the font cache using fc-list. This may take a moment.')\n"
     ]
    }
   ],
   "source": [
    "import psycopg2 as pg\n",
    "import pandas.io.sql as psql\n",
    "import pandas as pd\n",
    "import numpy as np\n",
    "import matplotlib\n",
    "import matplotlib.ticker as ticker\n",
    "import matplotlib.pyplot as plt\n",
    "import seaborn as sns\n",
    "import yaml\n",
    "import sqlalchemy\n",
    "from collections import Counter\n",
    "import datetime\n",
    "from __future__ import division\n",
    "CONFIG_PATH = 'database.yml'\n",
    "sns.set(color_codes=True)\n",
    "%matplotlib inline\n",
    "import collections\n",
    "pd.options.display.max_columns = 200\n",
    "pd.options.display.max_rows = 200\n",
    "with open(CONFIG_PATH) as f:\n",
    "    config = yaml.load(f)\n",
    "engine = sqlalchemy.create_engine('postgres://', connect_args=config)"
   ]
  },
  {
   "cell_type": "code",
   "execution_count": 94,
   "metadata": {
    "collapsed": false
   },
   "outputs": [
    {
     "data": {
      "image/png": "[encoded data removed]",
      "text/plain": [
       "<matplotlib.figure.Figure at 0x11c697590>"
      ]
     },
     "metadata": {},
     "output_type": "display_data"
    }
   ],
   "source": [
    "# Number of records/identities:\n",
    "tot = engine.execute('SELECT count(*) from dedupe.entries').fetchone()[0]\n",
    "uniq = engine.execute('SELECT count(*) from dedupe.entries_unique').fetchone()[0]\n",
    "tot_matched = engine.execute('SELECT count(dedupe_id) from dedupe.entries').fetchone()[0]\n",
    "plt.bar(range(3), [tot,uniq,tot_matched],tick_label=['total','unique','matched'],align='center');\n",
    "plt.ylabel(\"Number of records\");"
   ]
  },
  {
   "cell_type": "code",
   "execution_count": 95,
   "metadata": {
    "collapsed": false
   },
   "outputs": [
    {
     "data": {
      "image/png": "[encoded data removed]",
      "text/plain": [
       "<matplotlib.figure.Figure at 0x11c7b9b90>"
      ]
     },
     "metadata": {},
     "output_type": "display_data"
    }
   ],
   "source": [
    "dedup = engine.execute('SELECT count(distinct dedupe_id) from dedupe.entries').fetchone()[0]\n",
    "actual = engine.execute('SELECT count(distinct uuid) from dedupe.entries').fetchone()[0]\n",
    "plt.bar(range(2), [dedup,actual],tick_label=['deduped','actual'],align='center');\n",
    "plt.ylabel(\"Number of identities\");"
   ]
  },
  {
   "cell_type": "markdown",
   "metadata": {},
   "source": [
    "# Falsely merged persons"
   ]
  },
  {
   "cell_type": "code",
   "execution_count": 61,
   "metadata": {
    "collapsed": false
   },
   "outputs": [
    {
     "data": {
      "text/plain": [
       "61"
      ]
     },
     "execution_count": 61,
     "metadata": {},
     "output_type": "execute_result"
    }
   ],
   "source": [
    "df = pd.read_sql('SELECT dedupe_id, count(distinct uuid) from dedupe.entries where dedupe_id is not null group by dedupe_id', engine)\n",
    "sum(df['count'] > 1)"
   ]
  },
  {
   "cell_type": "code",
   "execution_count": 62,
   "metadata": {
    "collapsed": false
   },
   "outputs": [
    {
     "data": {
      "text/html": [
       "<div>\n",
       "<table border=\"1\" class=\"dataframe\">\n",
       "  <thead>\n",
       "    <tr style=\"text-align: right;\">\n",
       "      <th></th>\n",
       "      <th>uuid</th>\n",
       "      <th>first_name</th>\n",
       "      <th>last_name</th>\n",
       "      <th>ssn</th>\n",
       "      <th>sex</th>\n",
       "      <th>dob</th>\n",
       "      <th>race</th>\n",
       "      <th>ethnicity</th>\n",
       "      <th>entry_id</th>\n",
       "      <th>full_name</th>\n",
       "      <th>dedupe_id</th>\n",
       "    </tr>\n",
       "  </thead>\n",
       "  <tbody>\n",
       "    <tr>\n",
       "      <th>0</th>\n",
       "      <td>721e33d8-5471-473a-8cc8-83b401af9d46</td>\n",
       "      <td>Kim</td>\n",
       "      <td>Ward</td>\n",
       "      <td>758-08-9550</td>\n",
       "      <td>F</td>\n",
       "      <td>1957-09-05</td>\n",
       "      <td>white</td>\n",
       "      <td>nonhispanic</td>\n",
       "      <td>186359</td>\n",
       "      <td>Kim Ward</td>\n",
       "      <td>10586</td>\n",
       "    </tr>\n",
       "    <tr>\n",
       "      <th>1</th>\n",
       "      <td>a8cd5429-a177-4029-9af5-385a3028946e</td>\n",
       "      <td>Megan</td>\n",
       "      <td>Ward</td>\n",
       "      <td>758-08-9549</td>\n",
       "      <td>F</td>\n",
       "      <td>1957-09-05</td>\n",
       "      <td>white</td>\n",
       "      <td>nonhispanic</td>\n",
       "      <td>34194</td>\n",
       "      <td>Megan Ward</td>\n",
       "      <td>10586</td>\n",
       "    </tr>\n",
       "    <tr>\n",
       "      <th>2</th>\n",
       "      <td>721e33d8-5471-473a-8cc8-83b401af9d46</td>\n",
       "      <td>Kimberly</td>\n",
       "      <td>Ward</td>\n",
       "      <td>758-08-9550</td>\n",
       "      <td>F</td>\n",
       "      <td>1957-09-05</td>\n",
       "      <td>white</td>\n",
       "      <td>nonhispanic</td>\n",
       "      <td>186355</td>\n",
       "      <td>Kimberly Ward</td>\n",
       "      <td>10586</td>\n",
       "    </tr>\n",
       "    <tr>\n",
       "      <th>3</th>\n",
       "      <td>721e33d8-5471-473a-8cc8-83b401af9d46</td>\n",
       "      <td>Kimberly</td>\n",
       "      <td>Ward</td>\n",
       "      <td>758-08-9550</td>\n",
       "      <td>F</td>\n",
       "      <td>1957-09-05</td>\n",
       "      <td>white</td>\n",
       "      <td>nonhispanic</td>\n",
       "      <td>186356</td>\n",
       "      <td>Kimberly Ward</td>\n",
       "      <td>10586</td>\n",
       "    </tr>\n",
       "    <tr>\n",
       "      <th>4</th>\n",
       "      <td>a8cd5429-a177-4029-9af5-385a3028946e</td>\n",
       "      <td>Megan</td>\n",
       "      <td>Ward</td>\n",
       "      <td>758-08-9549</td>\n",
       "      <td>F</td>\n",
       "      <td>1957-09-05</td>\n",
       "      <td>white</td>\n",
       "      <td>nonhispanic</td>\n",
       "      <td>34196</td>\n",
       "      <td>Megan Ward</td>\n",
       "      <td>10586</td>\n",
       "    </tr>\n",
       "    <tr>\n",
       "      <th>5</th>\n",
       "      <td>a8cd5429-a177-4029-9af5-385a3028946e</td>\n",
       "      <td>Megan</td>\n",
       "      <td>Ward</td>\n",
       "      <td>758-08-9549</td>\n",
       "      <td>F</td>\n",
       "      <td>1957-09-05</td>\n",
       "      <td>white</td>\n",
       "      <td>nonhispanic</td>\n",
       "      <td>34201</td>\n",
       "      <td>Megan Ward</td>\n",
       "      <td>10586</td>\n",
       "    </tr>\n",
       "    <tr>\n",
       "      <th>6</th>\n",
       "      <td>a8cd5429-a177-4029-9af5-385a3028946e</td>\n",
       "      <td>Megan</td>\n",
       "      <td>Ward</td>\n",
       "      <td>758-08-9549</td>\n",
       "      <td>F</td>\n",
       "      <td>1957-09-05</td>\n",
       "      <td>white</td>\n",
       "      <td>nonhispanic</td>\n",
       "      <td>34193</td>\n",
       "      <td>Megan Ward</td>\n",
       "      <td>10586</td>\n",
       "    </tr>\n",
       "  </tbody>\n",
       "</table>\n",
       "</div>"
      ],
      "text/plain": [
       "                                   uuid first_name last_name          ssn sex  \\\n",
       "0  721e33d8-5471-473a-8cc8-83b401af9d46        Kim      Ward  758-08-9550   F   \n",
       "1  a8cd5429-a177-4029-9af5-385a3028946e      Megan      Ward  758-08-9549   F   \n",
       "2  721e33d8-5471-473a-8cc8-83b401af9d46   Kimberly      Ward  758-08-9550   F   \n",
       "3  721e33d8-5471-473a-8cc8-83b401af9d46   Kimberly      Ward  758-08-9550   F   \n",
       "4  a8cd5429-a177-4029-9af5-385a3028946e      Megan      Ward  758-08-9549   F   \n",
       "5  a8cd5429-a177-4029-9af5-385a3028946e      Megan      Ward  758-08-9549   F   \n",
       "6  a8cd5429-a177-4029-9af5-385a3028946e      Megan      Ward  758-08-9549   F   \n",
       "\n",
       "          dob   race    ethnicity  entry_id      full_name  dedupe_id  \n",
       "0  1957-09-05  white  nonhispanic    186359       Kim Ward      10586  \n",
       "1  1957-09-05  white  nonhispanic     34194     Megan Ward      10586  \n",
       "2  1957-09-05  white  nonhispanic    186355  Kimberly Ward      10586  \n",
       "3  1957-09-05  white  nonhispanic    186356  Kimberly Ward      10586  \n",
       "4  1957-09-05  white  nonhispanic     34196     Megan Ward      10586  \n",
       "5  1957-09-05  white  nonhispanic     34201     Megan Ward      10586  \n",
       "6  1957-09-05  white  nonhispanic     34193     Megan Ward      10586  "
      ]
     },
     "execution_count": 62,
     "metadata": {},
     "output_type": "execute_result"
    }
   ],
   "source": [
    "dups = df[df['count'] > 1].dedupe_id\n",
    "# First ten are all twins with off-by-one SSNs\n",
    "pd.read_sql('SELECT * FROM dedupe.entries WHERE dedupe_id = {}'.format(dups.iloc[10]), engine)"
   ]
  },
  {
   "cell_type": "markdown",
   "metadata": {},
   "source": [
    "# Split identities"
   ]
  },
  {
   "cell_type": "code",
   "execution_count": 82,
   "metadata": {
    "collapsed": false
   },
   "outputs": [
    {
     "data": {
      "text/plain": [
       "2807"
      ]
     },
     "execution_count": 82,
     "metadata": {},
     "output_type": "execute_result"
    }
   ],
   "source": [
    "# Number of persons that got split into two identities\n",
    "df = pd.read_sql('SELECT uuid, count(distinct dedupe_id) from dedupe.entries group by uuid', engine)\n",
    "sum(df['count'] > 1)"
   ]
  },
  {
   "cell_type": "code",
   "execution_count": 80,
   "metadata": {
    "collapsed": false
   },
   "outputs": [
    {
     "data": {
      "text/html": [
       "<div>\n",
       "<table border=\"1\" class=\"dataframe\">\n",
       "  <thead>\n",
       "    <tr style=\"text-align: right;\">\n",
       "      <th></th>\n",
       "      <th>uuid</th>\n",
       "      <th>first_name</th>\n",
       "      <th>last_name</th>\n",
       "      <th>ssn</th>\n",
       "      <th>sex</th>\n",
       "      <th>dob</th>\n",
       "      <th>race</th>\n",
       "      <th>ethnicity</th>\n",
       "      <th>entry_id</th>\n",
       "      <th>full_name</th>\n",
       "      <th>dedupe_id</th>\n",
       "    </tr>\n",
       "  </thead>\n",
       "  <tbody>\n",
       "    <tr>\n",
       "      <th>0</th>\n",
       "      <td>00693488-5238-4252-b719-265867e90260</td>\n",
       "      <td>Lara</td>\n",
       "      <td>Kennedy</td>\n",
       "      <td>699-30-2127</td>\n",
       "      <td>F</td>\n",
       "      <td>1951-08-15</td>\n",
       "      <td>white</td>\n",
       "      <td>nonhispanic</td>\n",
       "      <td>103722</td>\n",
       "      <td>Lara Kennedy</td>\n",
       "      <td>16257</td>\n",
       "    </tr>\n",
       "    <tr>\n",
       "      <th>1</th>\n",
       "      <td>00693488-5238-4252-b719-265867e90260</td>\n",
       "      <td>Laura</td>\n",
       "      <td>Kennedy</td>\n",
       "      <td>699-20-2137</td>\n",
       "      <td>F</td>\n",
       "      <td>1951-08-15</td>\n",
       "      <td>white</td>\n",
       "      <td>nonhispanic</td>\n",
       "      <td>103720</td>\n",
       "      <td>Laura Kennedy</td>\n",
       "      <td>8528</td>\n",
       "    </tr>\n",
       "    <tr>\n",
       "      <th>2</th>\n",
       "      <td>00693488-5238-4252-b719-265867e90260</td>\n",
       "      <td>Laura</td>\n",
       "      <td>Kennedy</td>\n",
       "      <td>699-20-2137</td>\n",
       "      <td>F</td>\n",
       "      <td>1951-06-15</td>\n",
       "      <td>white</td>\n",
       "      <td>nonhispanic</td>\n",
       "      <td>103721</td>\n",
       "      <td>Laura Kennedy</td>\n",
       "      <td>8528</td>\n",
       "    </tr>\n",
       "  </tbody>\n",
       "</table>\n",
       "</div>"
      ],
      "text/plain": [
       "                                   uuid first_name last_name          ssn sex  \\\n",
       "0  00693488-5238-4252-b719-265867e90260       Lara   Kennedy  699-30-2127   F   \n",
       "1  00693488-5238-4252-b719-265867e90260      Laura   Kennedy  699-20-2137   F   \n",
       "2  00693488-5238-4252-b719-265867e90260      Laura   Kennedy  699-20-2137   F   \n",
       "\n",
       "          dob   race    ethnicity  entry_id      full_name  dedupe_id  \n",
       "0  1951-08-15  white  nonhispanic    103722   Lara Kennedy      16257  \n",
       "1  1951-08-15  white  nonhispanic    103720  Laura Kennedy       8528  \n",
       "2  1951-06-15  white  nonhispanic    103721  Laura Kennedy       8528  "
      ]
     },
     "execution_count": 80,
     "metadata": {},
     "output_type": "execute_result"
    }
   ],
   "source": [
    "splits = df[df['count'] > 1].uuid\n",
    "# Some of these are very obvious, and should have been captured:\n",
    "pd.read_sql(\"SELECT * FROM dedupe.entries WHERE uuid = '{}'\".format(splits.iloc[2]), engine)"
   ]
  },
  {
   "cell_type": "markdown",
   "metadata": {},
   "source": [
    "# Ignored persons"
   ]
  },
  {
   "cell_type": "code",
   "execution_count": 83,
   "metadata": {
    "collapsed": false
   },
   "outputs": [
    {
     "data": {
      "text/plain": [
       "667"
      ]
     },
     "execution_count": 83,
     "metadata": {},
     "output_type": "execute_result"
    }
   ],
   "source": [
    "# Number of persons that were ignored entirely\n",
    "sum(df['count'] == 0)"
   ]
  },
  {
   "cell_type": "code",
   "execution_count": 84,
   "metadata": {
    "collapsed": false
   },
   "outputs": [
    {
     "data": {
      "text/html": [
       "<div>\n",
       "<table border=\"1\" class=\"dataframe\">\n",
       "  <thead>\n",
       "    <tr style=\"text-align: right;\">\n",
       "      <th></th>\n",
       "      <th>uuid</th>\n",
       "      <th>first_name</th>\n",
       "      <th>last_name</th>\n",
       "      <th>ssn</th>\n",
       "      <th>sex</th>\n",
       "      <th>dob</th>\n",
       "      <th>race</th>\n",
       "      <th>ethnicity</th>\n",
       "      <th>entry_id</th>\n",
       "      <th>full_name</th>\n",
       "      <th>dedupe_id</th>\n",
       "    </tr>\n",
       "  </thead>\n",
       "  <tbody>\n",
       "    <tr>\n",
       "      <th>0</th>\n",
       "      <td>004a6c45-a19a-4935-80a3-aaac9ebe450a</td>\n",
       "      <td>Mitchell</td>\n",
       "      <td>Cruz</td>\n",
       "      <td>445-32-3398</td>\n",
       "      <td>M</td>\n",
       "      <td>1980-07-29</td>\n",
       "      <td>None</td>\n",
       "      <td>nonhispanic</td>\n",
       "      <td>136574</td>\n",
       "      <td>Mitchell Cruz</td>\n",
       "      <td>None</td>\n",
       "    </tr>\n",
       "    <tr>\n",
       "      <th>1</th>\n",
       "      <td>004a6c45-a19a-4935-80a3-aaac9ebe450a</td>\n",
       "      <td>Mitchell</td>\n",
       "      <td>Cruz</td>\n",
       "      <td>445-32-3398</td>\n",
       "      <td>M</td>\n",
       "      <td>1980-07-29</td>\n",
       "      <td>None</td>\n",
       "      <td>None</td>\n",
       "      <td>136575</td>\n",
       "      <td>Mitchell Cruz</td>\n",
       "      <td>None</td>\n",
       "    </tr>\n",
       "  </tbody>\n",
       "</table>\n",
       "</div>"
      ],
      "text/plain": [
       "                                   uuid first_name last_name          ssn sex  \\\n",
       "0  004a6c45-a19a-4935-80a3-aaac9ebe450a   Mitchell      Cruz  445-32-3398   M   \n",
       "1  004a6c45-a19a-4935-80a3-aaac9ebe450a   Mitchell      Cruz  445-32-3398   M   \n",
       "\n",
       "          dob  race    ethnicity  entry_id      full_name dedupe_id  \n",
       "0  1980-07-29  None  nonhispanic    136574  Mitchell Cruz      None  \n",
       "1  1980-07-29  None         None    136575  Mitchell Cruz      None  "
      ]
     },
     "execution_count": 84,
     "metadata": {},
     "output_type": "execute_result"
    }
   ],
   "source": [
    "ignores = df[df['count'] == 0].uuid\n",
    "# Not sure why it ignored some of these records, e.g.\n",
    "pd.read_sql(\"SELECT * FROM dedupe.entries WHERE uuid = '{}'\".format(ignores.iloc[1]), engine)"
   ]
  },
  {
   "cell_type": "markdown",
   "metadata": {},
   "source": [
    "# Incomplete persons"
   ]
  },
  {
   "cell_type": "code",
   "execution_count": 85,
   "metadata": {
    "collapsed": false
   },
   "outputs": [
    {
     "data": {
      "text/plain": [
       "5761"
      ]
     },
     "execution_count": 85,
     "metadata": {},
     "output_type": "execute_result"
    }
   ],
   "source": [
    "df = pd.read_sql('SELECT uuid, count(distinct dedupe_id) as identities, count(dedupe_id)*1.0/count(*) as completeness from dedupe.entries group by uuid', engine)\n",
    "sum(df[(df.identities == 1)].completeness < 1)"
   ]
  },
  {
   "cell_type": "code",
   "execution_count": 86,
   "metadata": {
    "collapsed": false
   },
   "outputs": [
    {
     "data": {
      "text/html": [
       "<div>\n",
       "<table border=\"1\" class=\"dataframe\">\n",
       "  <thead>\n",
       "    <tr style=\"text-align: right;\">\n",
       "      <th></th>\n",
       "      <th>uuid</th>\n",
       "      <th>first_name</th>\n",
       "      <th>last_name</th>\n",
       "      <th>ssn</th>\n",
       "      <th>sex</th>\n",
       "      <th>dob</th>\n",
       "      <th>race</th>\n",
       "      <th>ethnicity</th>\n",
       "      <th>entry_id</th>\n",
       "      <th>full_name</th>\n",
       "      <th>dedupe_id</th>\n",
       "    </tr>\n",
       "  </thead>\n",
       "  <tbody>\n",
       "    <tr>\n",
       "      <th>0</th>\n",
       "      <td>000bd9f1-0ae8-482b-84a2-34dcf773a9b1</td>\n",
       "      <td>Lisa</td>\n",
       "      <td>Powebl</td>\n",
       "      <td>080-64-6896</td>\n",
       "      <td>F</td>\n",
       "      <td>1983-06-19</td>\n",
       "      <td>black</td>\n",
       "      <td>nonhispanic</td>\n",
       "      <td>111346</td>\n",
       "      <td>Lisa Powebl</td>\n",
       "      <td>16563.0</td>\n",
       "    </tr>\n",
       "    <tr>\n",
       "      <th>1</th>\n",
       "      <td>000bd9f1-0ae8-482b-84a2-34dcf773a9b1</td>\n",
       "      <td>Lisa</td>\n",
       "      <td>Powell</td>\n",
       "      <td>080-64-6896</td>\n",
       "      <td>F</td>\n",
       "      <td>1983-06-19</td>\n",
       "      <td>black</td>\n",
       "      <td>nonhispanic</td>\n",
       "      <td>111347</td>\n",
       "      <td>Lisa Powell</td>\n",
       "      <td>16563.0</td>\n",
       "    </tr>\n",
       "    <tr>\n",
       "      <th>2</th>\n",
       "      <td>000bd9f1-0ae8-482b-84a2-34dcf773a9b1</td>\n",
       "      <td>Lisa</td>\n",
       "      <td>Powell</td>\n",
       "      <td>080-64-6896</td>\n",
       "      <td>F</td>\n",
       "      <td>1983-06-19</td>\n",
       "      <td>None</td>\n",
       "      <td>None</td>\n",
       "      <td>111348</td>\n",
       "      <td>Lisa Powell</td>\n",
       "      <td>NaN</td>\n",
       "    </tr>\n",
       "    <tr>\n",
       "      <th>3</th>\n",
       "      <td>000bd9f1-0ae8-482b-84a2-34dcf773a9b1</td>\n",
       "      <td>Lisa</td>\n",
       "      <td>Powell</td>\n",
       "      <td>080-64-6896</td>\n",
       "      <td>None</td>\n",
       "      <td>1983-06-19</td>\n",
       "      <td>asian</td>\n",
       "      <td>None</td>\n",
       "      <td>111349</td>\n",
       "      <td>Lisa Powell</td>\n",
       "      <td>NaN</td>\n",
       "    </tr>\n",
       "    <tr>\n",
       "      <th>4</th>\n",
       "      <td>000bd9f1-0ae8-482b-84a2-34dcf773a9b1</td>\n",
       "      <td>Lika</td>\n",
       "      <td>Powell</td>\n",
       "      <td>080-64-6896</td>\n",
       "      <td>F</td>\n",
       "      <td>1983-12-08</td>\n",
       "      <td>None</td>\n",
       "      <td>nonhispanic</td>\n",
       "      <td>111350</td>\n",
       "      <td>Lika Powell</td>\n",
       "      <td>NaN</td>\n",
       "    </tr>\n",
       "    <tr>\n",
       "      <th>5</th>\n",
       "      <td>000bd9f1-0ae8-482b-84a2-34dcf773a9b1</td>\n",
       "      <td>Liz</td>\n",
       "      <td>Powell</td>\n",
       "      <td>None</td>\n",
       "      <td>F</td>\n",
       "      <td>1983-06-19</td>\n",
       "      <td>black</td>\n",
       "      <td>nonhispanic</td>\n",
       "      <td>111351</td>\n",
       "      <td>Liz Powell</td>\n",
       "      <td>NaN</td>\n",
       "    </tr>\n",
       "  </tbody>\n",
       "</table>\n",
       "</div>"
      ],
      "text/plain": [
       "                                   uuid first_name last_name          ssn  \\\n",
       "0  000bd9f1-0ae8-482b-84a2-34dcf773a9b1       Lisa    Powebl  080-64-6896   \n",
       "1  000bd9f1-0ae8-482b-84a2-34dcf773a9b1       Lisa    Powell  080-64-6896   \n",
       "2  000bd9f1-0ae8-482b-84a2-34dcf773a9b1       Lisa    Powell  080-64-6896   \n",
       "3  000bd9f1-0ae8-482b-84a2-34dcf773a9b1       Lisa    Powell  080-64-6896   \n",
       "4  000bd9f1-0ae8-482b-84a2-34dcf773a9b1       Lika    Powell  080-64-6896   \n",
       "5  000bd9f1-0ae8-482b-84a2-34dcf773a9b1        Liz    Powell         None   \n",
       "\n",
       "    sex         dob   race    ethnicity  entry_id    full_name  dedupe_id  \n",
       "0     F  1983-06-19  black  nonhispanic    111346  Lisa Powebl    16563.0  \n",
       "1     F  1983-06-19  black  nonhispanic    111347  Lisa Powell    16563.0  \n",
       "2     F  1983-06-19   None         None    111348  Lisa Powell        NaN  \n",
       "3  None  1983-06-19  asian         None    111349  Lisa Powell        NaN  \n",
       "4     F  1983-12-08   None  nonhispanic    111350  Lika Powell        NaN  \n",
       "5     F  1983-06-19  black  nonhispanic    111351   Liz Powell        NaN  "
      ]
     },
     "execution_count": 86,
     "metadata": {},
     "output_type": "execute_result"
    }
   ],
   "source": [
    "incompletes = df[(df.identities == 1) & (df.completeness < 1)].uuid\n",
    "# Not sure why it ignored some of these records, e.g.\n",
    "pd.read_sql(\"SELECT * FROM dedupe.entries WHERE uuid = '{}'\".format(incompletes.iloc[1]), engine)"
   ]
  }
 ],
 "metadata": {
  "kernelspec": {
   "display_name": "Python 2",
   "language": "python",
   "name": "python2"
  },
  "language_info": {
   "codemirror_mode": {
    "name": "ipython",
    "version": 2
   },
   "file_extension": ".py",
   "mimetype": "text/x-python",
   "name": "python",
   "nbconvert_exporter": "python",
   "pygments_lexer": "ipython2",
   "version": "2.7.11"
  }
 },
 "nbformat": 4,
 "nbformat_minor": 0
}
