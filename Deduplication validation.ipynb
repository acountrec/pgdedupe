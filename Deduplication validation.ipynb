{
 "cells": [
  {
   "cell_type": "markdown",
   "metadata": {},
   "source": [
    "# Deduplication"
   ]
  },
  {
   "cell_type": "code",
   "execution_count": 1,
   "metadata": {
    "collapsed": false
   },
   "outputs": [
    {
     "name": "stderr",
     "output_type": "stream",
     "text": [
      "/Users/mbauman/anaconda/lib/python2.7/site-packages/matplotlib/font_manager.py:273: UserWarning: Matplotlib is building the font cache using fc-list. This may take a moment.\n",
      "  warnings.warn('Matplotlib is building the font cache using fc-list. This may take a moment.')\n"
     ]
    }
   ],
   "source": [
    "import psycopg2 as pg\n",
    "import pandas.io.sql as psql\n",
    "import pandas as pd\n",
    "import numpy as np\n",
    "import matplotlib\n",
    "import matplotlib.ticker as ticker\n",
    "import matplotlib.pyplot as plt\n",
    "import seaborn as sns\n",
    "import yaml\n",
    "import sqlalchemy\n",
    "from collections import Counter\n",
    "import datetime\n",
    "from __future__ import division\n",
    "CONFIG_PATH = 'database.yml'\n",
    "sns.set(color_codes=True)\n",
    "%matplotlib inline\n",
    "import collections\n",
    "pd.options.display.max_columns = 200\n",
    "pd.options.display.max_rows = 200\n",
    "with open(CONFIG_PATH) as f:\n",
    "    config = yaml.load(f)\n",
    "engine = sqlalchemy.create_engine('postgres://', connect_args=config)"
   ]
  },
  {
   "cell_type": "code",
   "execution_count": 102,
   "metadata": {
    "collapsed": false
   },
   "outputs": [
    {
     "name": "stdout",
     "output_type": "stream",
     "text": [
      "192191/194130 (99.0011847731%) records matched\n"
     ]
    },
    {
     "data": {
      "image/png": "[encoded data removed]",
      "text/plain": [
       "<matplotlib.figure.Figure at 0x11c0a43d0>"
      ]
     },
     "metadata": {},
     "output_type": "display_data"
    }
   ],
   "source": [
    "# Number of records/identities:\n",
    "tot = engine.execute('SELECT count(*) from dedupe.entries').fetchone()[0]\n",
    "uniq = engine.execute('SELECT count(*) from dedupe.entries_unique').fetchone()[0]\n",
    "tot_matched = engine.execute('SELECT count(dedupe_id) from dedupe.entries').fetchone()[0]\n",
    "plt.bar(range(2), [tot,tot_matched],tick_label=['total','matched'],align='center');\n",
    "plt.ylabel(\"Number of records\");\n",
    "\n",
    "print(\"{}/{} ({}%) records matched\".format(tot_matched, tot, 100*tot_matched/tot))"
   ]
  },
  {
   "cell_type": "code",
   "execution_count": 103,
   "metadata": {
    "collapsed": false
   },
   "outputs": [
    {
     "data": {
      "image/png": "[encoded data removed]",
      "text/plain": [
       "<matplotlib.figure.Figure at 0x11c0974d0>"
      ]
     },
     "metadata": {},
     "output_type": "display_data"
    }
   ],
   "source": [
    "dedup = engine.execute('SELECT count(distinct dedupe_id) from dedupe.entries').fetchone()[0]\n",
    "actual = engine.execute('SELECT count(distinct uuid) from dedupe.entries').fetchone()[0]\n",
    "plt.bar(range(2), [dedup,actual],tick_label=['deduped','actual'],align='center');\n",
    "plt.ylabel(\"Number of identities\");"
   ]
  },
  {
   "cell_type": "markdown",
   "metadata": {},
   "source": [
    "# Falsely merged persons"
   ]
  },
  {
   "cell_type": "code",
   "execution_count": 117,
   "metadata": {
    "collapsed": false
   },
   "outputs": [
    {
     "name": "stdout",
     "output_type": "stream",
     "text": [
      "164 falsely merged identities; 1.72341319882% of all identities\n"
     ]
    }
   ],
   "source": [
    "df = pd.read_sql('SELECT dedupe_id, count(distinct uuid) from dedupe.entries where dedupe_id is not null group by dedupe_id', engine)\n",
    "print(\"{} falsely merged identities; {}% of all identities\".format(sum(df['count'] > 1), 100*sum(df['count'] > 1)/actual))"
   ]
  },
  {
   "cell_type": "code",
   "execution_count": 129,
   "metadata": {
    "collapsed": false
   },
   "outputs": [
    {
     "data": {
      "text/html": [
       "<div>\n",
       "<table border=\"1\" class=\"dataframe\">\n",
       "  <thead>\n",
       "    <tr style=\"text-align: right;\">\n",
       "      <th></th>\n",
       "      <th>uuid</th>\n",
       "      <th>first_name</th>\n",
       "      <th>last_name</th>\n",
       "      <th>ssn</th>\n",
       "      <th>sex</th>\n",
       "      <th>dob</th>\n",
       "      <th>race</th>\n",
       "      <th>ethnicity</th>\n",
       "      <th>entry_id</th>\n",
       "      <th>full_name</th>\n",
       "      <th>dedupe_id</th>\n",
       "    </tr>\n",
       "  </thead>\n",
       "  <tbody>\n",
       "    <tr>\n",
       "      <th>0</th>\n",
       "      <td>d92b4f74-a73c-48d3-b548-2b6bc55f7f3b</td>\n",
       "      <td>Rhonda</td>\n",
       "      <td>Davis</td>\n",
       "      <td>691-50-2398</td>\n",
       "      <td>F</td>\n",
       "      <td>1967-06-14</td>\n",
       "      <td>asian</td>\n",
       "      <td>nonhispanic</td>\n",
       "      <td>186315</td>\n",
       "      <td>Rhonda Davis</td>\n",
       "      <td>3466</td>\n",
       "    </tr>\n",
       "    <tr>\n",
       "      <th>1</th>\n",
       "      <td>d92b4f74-a73c-48d3-b548-2b6bc55f7f3b</td>\n",
       "      <td>Rhonda</td>\n",
       "      <td>Davis</td>\n",
       "      <td>691-50-2398</td>\n",
       "      <td>F</td>\n",
       "      <td>1967-03-07</td>\n",
       "      <td>asian</td>\n",
       "      <td>nonhispanic</td>\n",
       "      <td>186316</td>\n",
       "      <td>Rhonda Davis</td>\n",
       "      <td>3466</td>\n",
       "    </tr>\n",
       "    <tr>\n",
       "      <th>2</th>\n",
       "      <td>e7e57ae1-47d7-46f8-9a90-5144a05812ed</td>\n",
       "      <td>Mary</td>\n",
       "      <td>Davis</td>\n",
       "      <td>691-50-2397</td>\n",
       "      <td>F</td>\n",
       "      <td>1967-06-14</td>\n",
       "      <td>asian</td>\n",
       "      <td>None</td>\n",
       "      <td>5005</td>\n",
       "      <td>Mary Davis</td>\n",
       "      <td>3466</td>\n",
       "    </tr>\n",
       "    <tr>\n",
       "      <th>3</th>\n",
       "      <td>d92b4f74-a73c-48d3-b548-2b6bc55f7f3b</td>\n",
       "      <td>Rhonda</td>\n",
       "      <td>Davis</td>\n",
       "      <td>691-50-2398</td>\n",
       "      <td>F</td>\n",
       "      <td>1967-06-14</td>\n",
       "      <td>amindian</td>\n",
       "      <td>None</td>\n",
       "      <td>186317</td>\n",
       "      <td>Rhonda Davis</td>\n",
       "      <td>3466</td>\n",
       "    </tr>\n",
       "  </tbody>\n",
       "</table>\n",
       "</div>"
      ],
      "text/plain": [
       "                                   uuid first_name last_name          ssn sex  \\\n",
       "0  d92b4f74-a73c-48d3-b548-2b6bc55f7f3b     Rhonda     Davis  691-50-2398   F   \n",
       "1  d92b4f74-a73c-48d3-b548-2b6bc55f7f3b     Rhonda     Davis  691-50-2398   F   \n",
       "2  e7e57ae1-47d7-46f8-9a90-5144a05812ed       Mary     Davis  691-50-2397   F   \n",
       "3  d92b4f74-a73c-48d3-b548-2b6bc55f7f3b     Rhonda     Davis  691-50-2398   F   \n",
       "\n",
       "          dob      race    ethnicity  entry_id     full_name  dedupe_id  \n",
       "0  1967-06-14     asian  nonhispanic    186315  Rhonda Davis       3466  \n",
       "1  1967-03-07     asian  nonhispanic    186316  Rhonda Davis       3466  \n",
       "2  1967-06-14     asian         None      5005    Mary Davis       3466  \n",
       "3  1967-06-14  amindian         None    186317  Rhonda Davis       3466  "
      ]
     },
     "execution_count": 129,
     "metadata": {},
     "output_type": "execute_result"
    }
   ],
   "source": [
    "dups = df[df['count'] > 1].dedupe_id\n",
    "# Many are twins with off-by-one SSNs\n",
    "pd.read_sql('SELECT * FROM dedupe.entries WHERE dedupe_id = {}'.format(dups.iloc[14]), engine)"
   ]
  },
  {
   "cell_type": "code",
   "execution_count": 113,
   "metadata": {
    "collapsed": false
   },
   "outputs": [
    {
     "data": {
      "text/html": [
       "<div>\n",
       "<table border=\"1\" class=\"dataframe\">\n",
       "  <thead>\n",
       "    <tr style=\"text-align: right;\">\n",
       "      <th></th>\n",
       "      <th>uuid</th>\n",
       "      <th>first_name</th>\n",
       "      <th>last_name</th>\n",
       "      <th>ssn</th>\n",
       "      <th>sex</th>\n",
       "      <th>dob</th>\n",
       "      <th>race</th>\n",
       "      <th>ethnicity</th>\n",
       "      <th>entry_id</th>\n",
       "      <th>full_name</th>\n",
       "      <th>dedupe_id</th>\n",
       "    </tr>\n",
       "  </thead>\n",
       "  <tbody>\n",
       "    <tr>\n",
       "      <th>0</th>\n",
       "      <td>53c8e80d-6931-4adc-b5fb-e05412b3c107</td>\n",
       "      <td>David</td>\n",
       "      <td>Johnson</td>\n",
       "      <td>None</td>\n",
       "      <td>M</td>\n",
       "      <td>1967-03-07</td>\n",
       "      <td>None</td>\n",
       "      <td>nonhispanic</td>\n",
       "      <td>27226</td>\n",
       "      <td>David Johnson</td>\n",
       "      <td>732</td>\n",
       "    </tr>\n",
       "    <tr>\n",
       "      <th>1</th>\n",
       "      <td>dbe5a319-d61f-46a0-b588-96a4908a37e8</td>\n",
       "      <td>David</td>\n",
       "      <td>Johnson</td>\n",
       "      <td>None</td>\n",
       "      <td>M</td>\n",
       "      <td>1964-02-16</td>\n",
       "      <td>white</td>\n",
       "      <td>nonhispanic</td>\n",
       "      <td>106995</td>\n",
       "      <td>David Johnson</td>\n",
       "      <td>732</td>\n",
       "    </tr>\n",
       "  </tbody>\n",
       "</table>\n",
       "</div>"
      ],
      "text/plain": [
       "                                   uuid first_name last_name   ssn sex  \\\n",
       "0  53c8e80d-6931-4adc-b5fb-e05412b3c107      David   Johnson  None   M   \n",
       "1  dbe5a319-d61f-46a0-b588-96a4908a37e8      David   Johnson  None   M   \n",
       "\n",
       "          dob   race    ethnicity  entry_id      full_name  dedupe_id  \n",
       "0  1967-03-07   None  nonhispanic     27226  David Johnson        732  \n",
       "1  1964-02-16  white  nonhispanic    106995  David Johnson        732  "
      ]
     },
     "execution_count": 113,
     "metadata": {},
     "output_type": "execute_result"
    }
   ],
   "source": [
    "# Some are just really similar:\n",
    "pd.read_sql('SELECT * FROM dedupe.entries WHERE dedupe_id = {}'.format(dups.iloc[4]), engine)"
   ]
  },
  {
   "cell_type": "markdown",
   "metadata": {},
   "source": [
    "# Split identities"
   ]
  },
  {
   "cell_type": "code",
   "execution_count": 130,
   "metadata": {
    "collapsed": false
   },
   "outputs": [
    {
     "data": {
      "text/plain": [
       "7398"
      ]
     },
     "execution_count": 130,
     "metadata": {},
     "output_type": "execute_result"
    }
   ],
   "source": [
    "# Number of persons that got split into two identities\n",
    "df = pd.read_sql('SELECT uuid, count(distinct dedupe_id) from dedupe.entries group by uuid', engine)\n",
    "sum(df['count'] > 1)"
   ]
  },
  {
   "cell_type": "code",
   "execution_count": 133,
   "metadata": {
    "collapsed": false
   },
   "outputs": [
    {
     "data": {
      "text/html": [
       "<div>\n",
       "<table border=\"1\" class=\"dataframe\">\n",
       "  <thead>\n",
       "    <tr style=\"text-align: right;\">\n",
       "      <th></th>\n",
       "      <th>uuid</th>\n",
       "      <th>first_name</th>\n",
       "      <th>last_name</th>\n",
       "      <th>ssn</th>\n",
       "      <th>sex</th>\n",
       "      <th>dob</th>\n",
       "      <th>race</th>\n",
       "      <th>ethnicity</th>\n",
       "      <th>entry_id</th>\n",
       "      <th>full_name</th>\n",
       "      <th>dedupe_id</th>\n",
       "    </tr>\n",
       "  </thead>\n",
       "  <tbody>\n",
       "    <tr>\n",
       "      <th>0</th>\n",
       "      <td>000bd9f1-0ae8-482b-84a2-34dcf773a9b1</td>\n",
       "      <td>Lisa</td>\n",
       "      <td>Powebl</td>\n",
       "      <td>080-64-6896</td>\n",
       "      <td>F</td>\n",
       "      <td>1983-06-19</td>\n",
       "      <td>black</td>\n",
       "      <td>nonhispanic</td>\n",
       "      <td>111346</td>\n",
       "      <td>Lisa Powebl</td>\n",
       "      <td>16782</td>\n",
       "    </tr>\n",
       "    <tr>\n",
       "      <th>1</th>\n",
       "      <td>000bd9f1-0ae8-482b-84a2-34dcf773a9b1</td>\n",
       "      <td>Lisa</td>\n",
       "      <td>Powell</td>\n",
       "      <td>080-64-6896</td>\n",
       "      <td>F</td>\n",
       "      <td>1983-06-19</td>\n",
       "      <td>black</td>\n",
       "      <td>nonhispanic</td>\n",
       "      <td>111347</td>\n",
       "      <td>Lisa Powell</td>\n",
       "      <td>16782</td>\n",
       "    </tr>\n",
       "    <tr>\n",
       "      <th>2</th>\n",
       "      <td>000bd9f1-0ae8-482b-84a2-34dcf773a9b1</td>\n",
       "      <td>Liz</td>\n",
       "      <td>Powell</td>\n",
       "      <td>None</td>\n",
       "      <td>F</td>\n",
       "      <td>1983-06-19</td>\n",
       "      <td>black</td>\n",
       "      <td>nonhispanic</td>\n",
       "      <td>111351</td>\n",
       "      <td>Liz Powell</td>\n",
       "      <td>6335</td>\n",
       "    </tr>\n",
       "    <tr>\n",
       "      <th>3</th>\n",
       "      <td>000bd9f1-0ae8-482b-84a2-34dcf773a9b1</td>\n",
       "      <td>Lisa</td>\n",
       "      <td>Powell</td>\n",
       "      <td>080-64-6896</td>\n",
       "      <td>F</td>\n",
       "      <td>1983-06-19</td>\n",
       "      <td>None</td>\n",
       "      <td>None</td>\n",
       "      <td>111348</td>\n",
       "      <td>Lisa Powell</td>\n",
       "      <td>16782</td>\n",
       "    </tr>\n",
       "    <tr>\n",
       "      <th>4</th>\n",
       "      <td>000bd9f1-0ae8-482b-84a2-34dcf773a9b1</td>\n",
       "      <td>Lika</td>\n",
       "      <td>Powell</td>\n",
       "      <td>080-64-6896</td>\n",
       "      <td>F</td>\n",
       "      <td>1983-12-08</td>\n",
       "      <td>None</td>\n",
       "      <td>nonhispanic</td>\n",
       "      <td>111350</td>\n",
       "      <td>Lika Powell</td>\n",
       "      <td>14028</td>\n",
       "    </tr>\n",
       "    <tr>\n",
       "      <th>5</th>\n",
       "      <td>000bd9f1-0ae8-482b-84a2-34dcf773a9b1</td>\n",
       "      <td>Lisa</td>\n",
       "      <td>Powell</td>\n",
       "      <td>080-64-6896</td>\n",
       "      <td>None</td>\n",
       "      <td>1983-06-19</td>\n",
       "      <td>asian</td>\n",
       "      <td>None</td>\n",
       "      <td>111349</td>\n",
       "      <td>Lisa Powell</td>\n",
       "      <td>16782</td>\n",
       "    </tr>\n",
       "  </tbody>\n",
       "</table>\n",
       "</div>"
      ],
      "text/plain": [
       "                                   uuid first_name last_name          ssn  \\\n",
       "0  000bd9f1-0ae8-482b-84a2-34dcf773a9b1       Lisa    Powebl  080-64-6896   \n",
       "1  000bd9f1-0ae8-482b-84a2-34dcf773a9b1       Lisa    Powell  080-64-6896   \n",
       "2  000bd9f1-0ae8-482b-84a2-34dcf773a9b1        Liz    Powell         None   \n",
       "3  000bd9f1-0ae8-482b-84a2-34dcf773a9b1       Lisa    Powell  080-64-6896   \n",
       "4  000bd9f1-0ae8-482b-84a2-34dcf773a9b1       Lika    Powell  080-64-6896   \n",
       "5  000bd9f1-0ae8-482b-84a2-34dcf773a9b1       Lisa    Powell  080-64-6896   \n",
       "\n",
       "    sex         dob   race    ethnicity  entry_id    full_name  dedupe_id  \n",
       "0     F  1983-06-19  black  nonhispanic    111346  Lisa Powebl      16782  \n",
       "1     F  1983-06-19  black  nonhispanic    111347  Lisa Powell      16782  \n",
       "2     F  1983-06-19  black  nonhispanic    111351   Liz Powell       6335  \n",
       "3     F  1983-06-19   None         None    111348  Lisa Powell      16782  \n",
       "4     F  1983-12-08   None  nonhispanic    111350  Lika Powell      14028  \n",
       "5  None  1983-06-19  asian         None    111349  Lisa Powell      16782  "
      ]
     },
     "execution_count": 133,
     "metadata": {},
     "output_type": "execute_result"
    }
   ],
   "source": [
    "splits = df[df['count'] > 1].uuid\n",
    "# Some of these are very obvious, and should have been captured:\n",
    "pd.read_sql(\"SELECT * FROM dedupe.entries WHERE uuid = '{}'\".format(splits.iloc[1]), engine)"
   ]
  },
  {
   "cell_type": "markdown",
   "metadata": {},
   "source": [
    "# Ignored persons"
   ]
  },
  {
   "cell_type": "code",
   "execution_count": 134,
   "metadata": {
    "collapsed": false
   },
   "outputs": [
    {
     "data": {
      "text/plain": [
       "6"
      ]
     },
     "execution_count": 134,
     "metadata": {},
     "output_type": "execute_result"
    }
   ],
   "source": [
    "# Number of persons that were ignored entirely\n",
    "sum(df['count'] == 0)"
   ]
  },
  {
   "cell_type": "code",
   "execution_count": 136,
   "metadata": {
    "collapsed": false
   },
   "outputs": [
    {
     "data": {
      "text/html": [
       "<div>\n",
       "<table border=\"1\" class=\"dataframe\">\n",
       "  <thead>\n",
       "    <tr style=\"text-align: right;\">\n",
       "      <th></th>\n",
       "      <th>uuid</th>\n",
       "      <th>first_name</th>\n",
       "      <th>last_name</th>\n",
       "      <th>ssn</th>\n",
       "      <th>sex</th>\n",
       "      <th>dob</th>\n",
       "      <th>race</th>\n",
       "      <th>ethnicity</th>\n",
       "      <th>entry_id</th>\n",
       "      <th>full_name</th>\n",
       "      <th>dedupe_id</th>\n",
       "    </tr>\n",
       "  </thead>\n",
       "  <tbody>\n",
       "    <tr>\n",
       "      <th>0</th>\n",
       "      <td>1472ca98-8eb1-48ac-b568-da2ca475fd3c</td>\n",
       "      <td>Marcia</td>\n",
       "      <td>Perry</td>\n",
       "      <td>None</td>\n",
       "      <td>F</td>\n",
       "      <td>None</td>\n",
       "      <td>amindian</td>\n",
       "      <td>nonhispanic</td>\n",
       "      <td>24093</td>\n",
       "      <td>Marcia Perry</td>\n",
       "      <td>None</td>\n",
       "    </tr>\n",
       "  </tbody>\n",
       "</table>\n",
       "</div>"
      ],
      "text/plain": [
       "                                   uuid first_name last_name   ssn sex   dob  \\\n",
       "0  1472ca98-8eb1-48ac-b568-da2ca475fd3c     Marcia     Perry  None   F  None   \n",
       "\n",
       "       race    ethnicity  entry_id     full_name dedupe_id  \n",
       "0  amindian  nonhispanic     24093  Marcia Perry      None  "
      ]
     },
     "execution_count": 136,
     "metadata": {},
     "output_type": "execute_result"
    }
   ],
   "source": [
    "ignores = df[df['count'] == 0].uuid\n",
    "# These records simply had insufficient data:\n",
    "pd.read_sql(\"SELECT * FROM dedupe.entries WHERE uuid = '{}'\".format(ignores.iloc[0]), engine)"
   ]
  },
  {
   "cell_type": "markdown",
   "metadata": {},
   "source": [
    "# Incomplete persons"
   ]
  },
  {
   "cell_type": "code",
   "execution_count": 137,
   "metadata": {
    "collapsed": false
   },
   "outputs": [
    {
     "data": {
      "text/plain": [
       "137"
      ]
     },
     "execution_count": 137,
     "metadata": {},
     "output_type": "execute_result"
    }
   ],
   "source": [
    "df = pd.read_sql('SELECT uuid, count(distinct dedupe_id) as identities, count(dedupe_id)*1.0/count(*) as completeness from dedupe.entries group by uuid', engine)\n",
    "sum(df[(df.identities == 1)].completeness < 1)"
   ]
  },
  {
   "cell_type": "code",
   "execution_count": 141,
   "metadata": {
    "collapsed": false
   },
   "outputs": [
    {
     "data": {
      "text/html": [
       "<div>\n",
       "<table border=\"1\" class=\"dataframe\">\n",
       "  <thead>\n",
       "    <tr style=\"text-align: right;\">\n",
       "      <th></th>\n",
       "      <th>uuid</th>\n",
       "      <th>first_name</th>\n",
       "      <th>last_name</th>\n",
       "      <th>ssn</th>\n",
       "      <th>sex</th>\n",
       "      <th>dob</th>\n",
       "      <th>race</th>\n",
       "      <th>ethnicity</th>\n",
       "      <th>entry_id</th>\n",
       "      <th>full_name</th>\n",
       "      <th>dedupe_id</th>\n",
       "    </tr>\n",
       "  </thead>\n",
       "  <tbody>\n",
       "    <tr>\n",
       "      <th>0</th>\n",
       "      <td>088ef095-d3cb-4c63-809c-ce2d960e47d8</td>\n",
       "      <td>Kurt</td>\n",
       "      <td>Suarez</td>\n",
       "      <td>418-63-5361</td>\n",
       "      <td>M</td>\n",
       "      <td>1973-02-07</td>\n",
       "      <td>None</td>\n",
       "      <td>None</td>\n",
       "      <td>106689</td>\n",
       "      <td>Kurt Suarez</td>\n",
       "      <td>10224.0</td>\n",
       "    </tr>\n",
       "    <tr>\n",
       "      <th>1</th>\n",
       "      <td>088ef095-d3cb-4c63-809c-ce2d960e47d8</td>\n",
       "      <td>Kurt</td>\n",
       "      <td>Suarez</td>\n",
       "      <td>None</td>\n",
       "      <td>M</td>\n",
       "      <td>None</td>\n",
       "      <td>white</td>\n",
       "      <td>nonhispanic</td>\n",
       "      <td>106691</td>\n",
       "      <td>Kurt Suarez</td>\n",
       "      <td>NaN</td>\n",
       "    </tr>\n",
       "    <tr>\n",
       "      <th>2</th>\n",
       "      <td>088ef095-d3cb-4c63-809c-ce2d960e47d8</td>\n",
       "      <td>Kurt</td>\n",
       "      <td>Suarez</td>\n",
       "      <td>418-63-5361</td>\n",
       "      <td>M</td>\n",
       "      <td>1973-02-07</td>\n",
       "      <td>white</td>\n",
       "      <td>None</td>\n",
       "      <td>106690</td>\n",
       "      <td>Kurt Suarez</td>\n",
       "      <td>10224.0</td>\n",
       "    </tr>\n",
       "  </tbody>\n",
       "</table>\n",
       "</div>"
      ],
      "text/plain": [
       "                                   uuid first_name last_name          ssn sex  \\\n",
       "0  088ef095-d3cb-4c63-809c-ce2d960e47d8       Kurt    Suarez  418-63-5361   M   \n",
       "1  088ef095-d3cb-4c63-809c-ce2d960e47d8       Kurt    Suarez         None   M   \n",
       "2  088ef095-d3cb-4c63-809c-ce2d960e47d8       Kurt    Suarez  418-63-5361   M   \n",
       "\n",
       "          dob   race    ethnicity  entry_id    full_name  dedupe_id  \n",
       "0  1973-02-07   None         None    106689  Kurt Suarez    10224.0  \n",
       "1        None  white  nonhispanic    106691  Kurt Suarez        NaN  \n",
       "2  1973-02-07  white         None    106690  Kurt Suarez    10224.0  "
      ]
     },
     "execution_count": 141,
     "metadata": {},
     "output_type": "execute_result"
    }
   ],
   "source": [
    "incompletes = df[(df.identities == 1) & (df.completeness < 1)].uuid\n",
    "# Like above, these persons just had some records with insufficient data\n",
    "pd.read_sql(\"SELECT * FROM dedupe.entries WHERE uuid = '{}'\".format(incompletes.iloc[1]), engine)"
   ]
  },
  {
   "cell_type": "code",
   "execution_count": null,
   "metadata": {
    "collapsed": true
   },
   "outputs": [],
   "source": []
  }
 ],
 "metadata": {
  "kernelspec": {
   "display_name": "Python 2",
   "language": "python",
   "name": "python2"
  },
  "language_info": {
   "codemirror_mode": {
    "name": "ipython",
    "version": 2
   },
   "file_extension": ".py",
   "mimetype": "text/x-python",
   "name": "python",
   "nbconvert_exporter": "python",
   "pygments_lexer": "ipython2",
   "version": "2.7.11"
  }
 },
 "nbformat": 4,
 "nbformat_minor": 0
}
